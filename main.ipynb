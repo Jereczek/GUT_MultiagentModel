{
 "cells": [
  {
   "cell_type": "markdown",
   "metadata": {},
   "source": [
    "# Świadczenie usług w systemie wieloagentowym"
   ]
  },
  {
   "cell_type": "code",
   "execution_count": null,
   "metadata": {},
   "outputs": [],
   "source": [
    "from suswa.suswalib.systems.rae import Rae\n",
    "from suswa.suswalib.systems.policies.default_policy import DefaultPolicy\n",
    "from suswa.suswalib.systems.constants_data import ConstantsData"
   ]
  },
  {
   "cell_type": "markdown",
   "metadata": {},
   "source": [
    "## Parametry"
   ]
  },
  {
   "cell_type": "code",
   "execution_count": null,
   "metadata": {},
   "outputs": [],
   "source": [
    "# |N| i |S|\n",
    "liczba_agentow = 100\n",
    "liczba_s_agentow = 25\n",
    "\n",
    "# Imin oraz Imax\n",
    "i_min = 5\n",
    "i_max = 15\n",
    "\n",
    "# Dystrybuanty zmiennych losowych A i G\n",
    "expo_a = 1\n",
    "expo_g = 10\n",
    "\n",
    "# Polityka (h- oraz s-polityka)\n",
    "policy = DefaultPolicy()\n",
    "\n",
    "# \"Dobra wola\"\n",
    "x = 0.8\n",
    "y = 0.2\n",
    "z = 0.2\n",
    "\n",
    "# Współczynnik dyskontowy\n",
    "delta = 1\n",
    "\n",
    "# Początkowe miary zaufania\n",
    "initial_rep = 1.0\n",
    "\n",
    "# Kroki czasowe\n",
    "t_max = 60"
   ]
  },
  {
   "cell_type": "markdown",
   "metadata": {},
   "source": [
    "## Program"
   ]
  },
  {
   "cell_type": "code",
   "execution_count": null,
   "metadata": {},
   "outputs": [],
   "source": [
    "constants = ConstantsData(x, y, z, policy, expo_a, expo_g, i_min, i_max)\n",
    "\n",
    "rae = Rae(liczba_agentow, liczba_s_agentow, constants, initial_rep, delta)\n",
    "\n",
    "for t in range(t_max):\n",
    "    rae.aggregate()"
   ]
  },
  {
   "cell_type": "code",
   "execution_count": null,
   "metadata": {},
   "outputs": [],
   "source": [
    "import numpy as np\n",
    "import matplotlib.pyplot as plt\n",
    "\n",
    "# Vs(t):\n",
    "sums = []\n",
    "\n",
    "for timestep_data in rae.data:\n",
    "    sum = 0.0\n",
    "\n",
    "    for i in range(liczba_agentow):\n",
    "        if rae.strategic_agents[i]:\n",
    "            sum += timestep_data.trustworthiness_vector[i]\n",
    "    \n",
    "    sums.append(float(sum / float(liczba_s_agentow)))\n",
    "\n",
    "plt.plot(range(t_max + 1), sums)\n",
    "plt.title(\"Trajektoria miar zaufania agentów strategicznych\")\n",
    "plt.xlabel(\"t\")\n",
    "plt.ylabel(\"Vs(t)\")\n",
    "plt.show()"
   ]
  },
  {
   "cell_type": "code",
   "execution_count": null,
   "metadata": {},
   "outputs": [],
   "source": [
    "# Vh(t):\n",
    "sums = []\n",
    "\n",
    "for timestep_data in rae.data:\n",
    "    sum = 0.0\n",
    "\n",
    "    for i in range(liczba_agentow):\n",
    "        if not rae.strategic_agents[i]:\n",
    "            sum += timestep_data.trustworthiness_vector[i]\n",
    "    \n",
    "    sums.append(float(sum / float(liczba_agentow - liczba_s_agentow)))\n",
    "\n",
    "plt.plot(range(t_max + 1), sums)\n",
    "plt.title(\"Trajektoria miar zaufania agentów uczciwych\")\n",
    "plt.xlabel(\"t\")\n",
    "plt.ylabel(\"Vs(t)\")\n",
    "plt.show()"
   ]
  }
 ],
 "metadata": {
  "kernelspec": {
   "display_name": "Python 3.7.9 ('.venv': venv)",
   "language": "python",
   "name": "python3"
  },
  "language_info": {
   "codemirror_mode": {
    "name": "ipython",
    "version": 3
   },
   "file_extension": ".py",
   "mimetype": "text/x-python",
   "name": "python",
   "nbconvert_exporter": "python",
   "pygments_lexer": "ipython3",
   "version": "3.7.9"
  },
  "orig_nbformat": 4,
  "vscode": {
   "interpreter": {
    "hash": "bb98ff090bd660e05352bdbbfffbb17eb2b3dc5ce1a7c400c17aedc7b68d99c6"
   }
  }
 },
 "nbformat": 4,
 "nbformat_minor": 2
}
